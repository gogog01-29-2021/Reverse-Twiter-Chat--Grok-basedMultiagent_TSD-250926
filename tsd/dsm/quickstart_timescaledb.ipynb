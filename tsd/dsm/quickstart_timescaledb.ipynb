{
 "cells": [
  {
   "cell_type": "markdown",
   "id": "14b22aee",
   "metadata": {},
   "source": [
    "# TimeScale DB"
   ]
  },
  {
   "cell_type": "markdown",
   "id": "a7efe14e",
   "metadata": {},
   "source": [
    "## Installations"
   ]
  },
  {
   "cell_type": "markdown",
   "id": "0793ab9a",
   "metadata": {},
   "source": [
    "Follow the steps in https://docs.timescale.com/self-hosted/latest/install/\n",
    "\n",
    "For windows, if `pg_config` doesn't run add `C:\\Program Files\\PostgreSQL\\<version>\\bin` to Path in System Variables and restart terminal."
   ]
  },
  {
   "cell_type": "markdown",
   "id": "78af6024",
   "metadata": {},
   "source": [
    "After installing TimescaleDB, open `psql` from search bar and type default for Server, Database, Port, Username (given inside []) and password set during PostgreSQL installation."
   ]
  },
  {
   "cell_type": "markdown",
   "id": "20bda8a8",
   "metadata": {},
   "source": [
    "Check if `CREATE EXTENSION IF NOT EXISTS timescaledb;` runs in psql shell. If not, edit `postgresql.conf` file as instructed and restart psql."
   ]
  },
  {
   "cell_type": "markdown",
   "id": "ea1c2232",
   "metadata": {},
   "source": [
    "Use `pgAdmin` as gui."
   ]
  },
  {
   "cell_type": "markdown",
   "id": "ce35c730",
   "metadata": {},
   "source": [
    "## Create Hypertable"
   ]
  },
  {
   "cell_type": "code",
   "execution_count": null,
   "id": "be718f83",
   "metadata": {},
   "outputs": [],
   "source": [
    "import sys\n",
    "import os\n",
    "import psycopg2\n",
    "\n",
    "parent_dir = os.path.abspath(os.path.join(os.getcwd(), \"..\"))\n",
    "sys.path.append(parent_dir)\n",
    "\n",
    "# Establish TimeScale DB connection via postgres using psycopg2\n",
    "conn = psycopg2.connect(database=\"postgres\",\n",
    "                    host=\"localhost\",\n",
    "                    user=\"postgres\",\n",
    "                    password=\"{YOUR_PASSWORD}\",\n",
    "                    port=\"5432\")\n",
    "\n",
    "cur = conn.cursor()"
   ]
  },
  {
   "cell_type": "code",
   "execution_count": null,
   "id": "214bc0b4",
   "metadata": {},
   "outputs": [],
   "source": [
    "# Create postgres table (run once for creation)\n",
    "cur.execute(\n",
    "\"\"\"\n",
    "CREATE TABLE order_book_db (\n",
    "    exchange TEXT NOT NULL,\n",
    "    symbol TEXT NOT NULL,\n",
    "    time_exchange TIMESTAMPTZ NOT NULL,\n",
    "    time_received TIMESTAMPTZ,\n",
    "    bid_prices FLOAT8[],\n",
    "    bid_sizes FLOAT8[],\n",
    "    ask_prices FLOAT8[],\n",
    "    ask_sizes FLOAT8[]\n",
    ");\n",
    "\"\"\"\n",
    ")\n",
    "\n",
    "conn.commit()\n",
    "\n",
    "# Convert this to a hypertable that allows TimeScaleDB's partitioning \n",
    "# for the column `time_exchange` in the time dimension and `symbol` in the space dimension. \n",
    "# The last argument should be the expected number of space partitions.\n",
    "\n",
    "cur.execute(\n",
    "\"SELECT create_hypertable('order_book_db', 'time_exchange'::name, 'symbol'::name, 4);\"\n",
    ")\n",
    "\n",
    "conn.commit()"
   ]
  },
  {
   "cell_type": "markdown",
   "id": "df754653",
   "metadata": {},
   "source": [
    "## Inserting Streamed Data"
   ]
  },
  {
   "cell_type": "code",
   "execution_count": null,
   "id": "66f0e0d0",
   "metadata": {},
   "outputs": [],
   "source": [
    "# Example run for Coinbase order-book using csp:\n",
    "# Run this cell to allow publisher to run in the background\n",
    "# and execute the next cell to run csp to subscribe and push to db\n",
    "\n",
    "from dsm.order_book_publisher import *\n",
    "\n",
    "publisher = Publisher()\n",
    "\n",
    "coinbase = CoinbaseOrderBookPublisher(\n",
    "    ws_url=\"wss://advanced-trade-ws.coinbase.com\",\n",
    "    symbols=[\"BTC-USD\", \"ETH-USD\"],\n",
    "    publisher=publisher\n",
    ")\n",
    "\n",
    "# binance = BinanceMarketDataPublisher(\n",
    "#     ws_url=\"wss://stream.binance.com:9443/ws\",\n",
    "#     symbols=[\"btcusdt\", \"ethusdt\"],\n",
    "#     publisher=publisher\n",
    "# )\n",
    "\n",
    "publishers = [\n",
    "    coinbase#, binance\n",
    "]\n",
    "\n",
    "threads = [\n",
    "    threading.Thread(target=p.start, kwargs={\"block\": False})\n",
    "    for p in publishers\n",
    "]\n",
    "\n",
    "for t in threads:\n",
    "    t.start()\n",
    "\n",
    "# try:\n",
    "#     time.sleep(60*3)\n",
    "# finally:\n",
    "#     for p in publishers:\n",
    "#         p.end()\n",
    "#     publisher.stop()\n",
    "#     for t in threads:\n",
    "#         t.join()\n"
   ]
  },
  {
   "cell_type": "code",
   "execution_count": null,
   "id": "42f41735",
   "metadata": {},
   "outputs": [],
   "source": [
    "from dsm.order_book_input_adapter import *\n",
    "\n",
    "@csp.node\n",
    "def parse_lob_to_db(order_book: ts[OrderBook]):\n",
    "    exchange = \"COINBASE\"\n",
    "    symbol = \"BTC-USD\"\n",
    "    time_exchange = order_book.time_exchange\n",
    "    time_received = order_book.time_received\n",
    "    bid_prices = [bid.price for bid in order_book.bids]\n",
    "    bid_sizes = [bid.qty for bid in order_book.bids]\n",
    "    ask_prices = [ask.price for ask in order_book.asks]\n",
    "    ask_sizes = [ask.qty for ask in order_book.asks]\n",
    "\n",
    "    # Insert into table\n",
    "    cur.execute(\"\"\"\n",
    "        INSERT INTO order_book_db (\n",
    "            exchange, symbol, time_exchange, time_received,\n",
    "            bid_prices, bid_sizes, ask_prices, ask_sizes\n",
    "        ) VALUES (%s, %s, %s, %s, %s, %s, %s, %s)\n",
    "    \"\"\", (\n",
    "        exchange,\n",
    "        symbol,\n",
    "        time_exchange,\n",
    "        time_received,\n",
    "        bid_prices,\n",
    "        bid_sizes,\n",
    "        ask_prices,\n",
    "        ask_sizes\n",
    "    ))\n",
    "\n",
    "    conn.commit()\n",
    "\n",
    "@csp.graph\n",
    "def subscribe():\n",
    "    logging.info(\"Building CSP graph\")\n",
    "    order_book_adapter_manager = OrderBookAdapterManager(exchange=\"COINBASE\")\n",
    "    symbols = [\"BTC-USD\"]\n",
    "\n",
    "    for symbol in symbols:\n",
    "        order_book_data = order_book_adapter_manager.subscribe(symbol, csp.PushMode.NON_COLLAPSING)\n",
    "        order_book = order_book_node(order_book=order_book_data)\n",
    "\n",
    "        parse_lob_to_db(order_book)\n",
    "\n",
    "        #csp.print(\"\", csp.apply(order_book, lambda x: [[bid.price for bid in x.bids]], List))\n",
    "\n",
    "        csp.print(f\"{symbol} order book:\", order_book)\n",
    "\n",
    "    logging.info(\"Graph building complete\")\n",
    "\n",
    "csp.run(\n",
    "    subscribe,\n",
    "    starttime=datetime.utcnow(),\n",
    "    endtime=timedelta(seconds=60),\n",
    "    realtime=True\n",
    ")\n",
    "\n",
    "cur.close()\n",
    "conn.close()"
   ]
  },
  {
   "cell_type": "code",
   "execution_count": null,
   "id": "9896c7be",
   "metadata": {},
   "outputs": [],
   "source": [
    "# Example run for Coinbase & Binance trades-stream"
   ]
  },
  {
   "cell_type": "markdown",
   "id": "1519ad5a",
   "metadata": {},
   "source": [
    "## Querying with Timescale DB"
   ]
  },
  {
   "cell_type": "code",
   "execution_count": null,
   "id": "2294867f",
   "metadata": {},
   "outputs": [],
   "source": []
  },
  {
   "cell_type": "markdown",
   "id": "20dd3b22",
   "metadata": {},
   "source": [
    "### "
   ]
  }
 ],
 "metadata": {
  "kernelspec": {
   "display_name": "base",
   "language": "python",
   "name": "python3"
  },
  "language_info": {
   "codemirror_mode": {
    "name": "ipython",
    "version": 3
   },
   "file_extension": ".py",
   "mimetype": "text/x-python",
   "name": "python",
   "nbconvert_exporter": "python",
   "pygments_lexer": "ipython3",
   "version": "3.11.4"
  }
 },
 "nbformat": 4,
 "nbformat_minor": 5
}
