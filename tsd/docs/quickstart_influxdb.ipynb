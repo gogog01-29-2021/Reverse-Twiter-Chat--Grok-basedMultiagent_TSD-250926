{
 "cells": [
  {
   "cell_type": "markdown",
   "id": "7b6479ba-e96c-4c46-8e35-f56ac92a8556",
   "metadata": {},
   "source": [
    "# InfluxDB"
   ]
  },
  {
   "cell_type": "markdown",
   "id": "d8ead0c1-01d8-4ea2-ae2d-c8c989228284",
   "metadata": {},
   "source": [
    "---"
   ]
  },
  {
   "cell_type": "markdown",
   "id": "66ab51a6-b7dd-4d6c-ba6b-331baa46070a",
   "metadata": {},
   "source": [
    "## Introduction"
   ]
  },
  {
   "cell_type": "markdown",
   "id": "3602ffd8-e2d5-4d69-a7f8-f41ab46f45aa",
   "metadata": {},
   "source": [
    "### Install Dependencies\n",
    "First, you need to install the influxdb-client module. Run the command below in your terminal."
   ]
  },
  {
   "cell_type": "raw",
   "id": "3f8bc54c-ffe1-4e29-93db-0ad551031077",
   "metadata": {
    "execution": {
     "iopub.execute_input": "2025-04-05T14:59:04.731090Z",
     "iopub.status.busy": "2025-04-05T14:59:04.731090Z",
     "iopub.status.idle": "2025-04-05T14:59:09.365401Z",
     "shell.execute_reply": "2025-04-05T14:59:09.365401Z",
     "shell.execute_reply.started": "2025-04-05T14:59:04.731090Z"
    }
   },
   "source": [
    "!pip install influxdb-client"
   ]
  },
  {
   "cell_type": "markdown",
   "id": "9dca61f7-b45e-459d-b953-dedee67be6f7",
   "metadata": {},
   "source": [
    "### Tokens\n",
    "InfluxDB Cloud uses Tokens to authenticate API access. We've created an all-access token for you for this set up process.\n",
    "\n",
    "Run this command in your terminal to save your token as an environment variable:"
   ]
  },
  {
   "cell_type": "markdown",
   "id": "d4694e1d-f2b8-450b-86cb-089414705406",
   "metadata": {},
   "source": [
    "export INFLUXDB_TOKEN=\"your_token\""
   ]
  },
  {
   "cell_type": "markdown",
   "id": "4934617a-39ab-4bc1-a43c-072600c9488c",
   "metadata": {},
   "source": [
    "### Initialize Client"
   ]
  },
  {
   "cell_type": "code",
   "execution_count": 1,
   "id": "9b54b1ae-c4da-4c68-b5c1-555107a49d4e",
   "metadata": {
    "execution": {
     "iopub.execute_input": "2025-04-16T02:18:17.745111Z",
     "iopub.status.busy": "2025-04-16T02:18:17.745111Z",
     "iopub.status.idle": "2025-04-16T02:18:17.748338Z",
     "shell.execute_reply": "2025-04-16T02:18:17.748338Z",
     "shell.execute_reply.started": "2025-04-16T02:18:17.745111Z"
    }
   },
   "outputs": [],
   "source": [
    "_org = 'your_org'\n",
    "_url = 'your_url'\n",
    "_token = 'your_influx_token'"
   ]
  },
  {
   "cell_type": "code",
   "execution_count": 2,
   "id": "4b092af2-6a3d-442e-9b0a-94e06fa11628",
   "metadata": {
    "execution": {
     "iopub.execute_input": "2025-04-16T02:18:17.749344Z",
     "iopub.status.busy": "2025-04-16T02:18:17.749344Z",
     "iopub.status.idle": "2025-04-16T02:18:17.999587Z",
     "shell.execute_reply": "2025-04-16T02:18:17.999587Z",
     "shell.execute_reply.started": "2025-04-16T02:18:17.749344Z"
    }
   },
   "outputs": [],
   "source": [
    "import influxdb_client, os, time\n",
    "from influxdb_client import InfluxDBClient, Point, WritePrecision\n",
    "from influxdb_client.client.write_api import SYNCHRONOUS\n",
    "\n",
    "token = _token  # OR os.environ.get(\"INFLUXDB_TOKEN\")\n",
    "org = _org\n",
    "url = _url\n",
    "\n",
    "client = influxdb_client.InfluxDBClient(url=url, token=token, org=org)"
   ]
  },
  {
   "cell_type": "markdown",
   "id": "543c3e5e-386e-4a2f-985a-c6da53cf6e36",
   "metadata": {},
   "source": [
    "### Write Data\n",
    "\n",
    "To start writing data, we need a place to store our time-series data. We call these buckets.  "
   ]
  },
  {
   "cell_type": "code",
   "execution_count": 3,
   "id": "0893f07d-937e-4667-9822-98d24d9548cb",
   "metadata": {
    "execution": {
     "iopub.execute_input": "2025-04-16T02:18:18.000592Z",
     "iopub.status.busy": "2025-04-16T02:18:18.000592Z",
     "iopub.status.idle": "2025-04-16T02:18:23.592522Z",
     "shell.execute_reply": "2025-04-16T02:18:23.592522Z",
     "shell.execute_reply.started": "2025-04-16T02:18:18.000592Z"
    }
   },
   "outputs": [],
   "source": [
    "# TEST BUCKET NAME: test\n",
    "bucket=\"test\"\n",
    "\n",
    "write_api = client.write_api(write_options=SYNCHRONOUS)\n",
    "   \n",
    "for value in range(5):\n",
    "    point = (\n",
    "        Point(\"measurement1\")\n",
    "        .tag(\"tagname1\", \"tagvalue1\")\n",
    "        .field(\"field1\", value)\n",
    "    )\n",
    "    write_api.write(bucket=bucket, org=\"fbaquant\", record=point)\n",
    "    time.sleep(1) # separate points by 1 second"
   ]
  },
  {
   "cell_type": "markdown",
   "id": "152138d9-06b4-453e-bb13-1b1dd71a471b",
   "metadata": {},
   "source": [
    "## In the above code snippet, we define five data points and write each one to InfluxDB.  \n",
    "\n",
    "Each of the 5 points we write has a field and a tag."
   ]
  },
  {
   "cell_type": "markdown",
   "id": "0041755c-5c3a-483e-ad73-0078e766ff19",
   "metadata": {},
   "source": [
    "### Execute a Flux Query\n",
    "\n",
    "Now let’s query the numbers we wrote into the database.  \n",
    "We use the Flux scripting language to query data.  \n",
    "Flux is designed for querying, analyzing, and acting on data."
   ]
  },
  {
   "cell_type": "markdown",
   "id": "9e6e2d47-5d26-4ca5-ad7e-0e32fd526a22",
   "metadata": {},
   "source": [
    "In this query, we are looking for data points within the last 10 minutes with a measurement of \"measurement1\".  \n",
    "\n",
    "Let’s use that Flux query in our Python code!Run the following:"
   ]
  },
  {
   "cell_type": "code",
   "execution_count": 4,
   "id": "21f4ea2d-cf01-487c-9891-ced3db7b03d3",
   "metadata": {
    "execution": {
     "iopub.execute_input": "2025-04-16T02:18:23.594032Z",
     "iopub.status.busy": "2025-04-16T02:18:23.593527Z",
     "iopub.status.idle": "2025-04-16T02:18:23.873378Z",
     "shell.execute_reply": "2025-04-16T02:18:23.873378Z",
     "shell.execute_reply.started": "2025-04-16T02:18:23.594032Z"
    }
   },
   "outputs": [
    {
     "data": {
      "text/html": [
       "<div>\n",
       "<style scoped>\n",
       "    .dataframe tbody tr th:only-of-type {\n",
       "        vertical-align: middle;\n",
       "    }\n",
       "\n",
       "    .dataframe tbody tr th {\n",
       "        vertical-align: top;\n",
       "    }\n",
       "\n",
       "    .dataframe thead th {\n",
       "        text-align: right;\n",
       "    }\n",
       "</style>\n",
       "<table border=\"1\" class=\"dataframe\">\n",
       "  <thead>\n",
       "    <tr style=\"text-align: right;\">\n",
       "      <th></th>\n",
       "      <th>result</th>\n",
       "      <th>table</th>\n",
       "      <th>_start</th>\n",
       "      <th>_stop</th>\n",
       "      <th>_time</th>\n",
       "      <th>_value</th>\n",
       "      <th>_field</th>\n",
       "      <th>_measurement</th>\n",
       "      <th>tagname1</th>\n",
       "    </tr>\n",
       "  </thead>\n",
       "  <tbody>\n",
       "    <tr>\n",
       "      <th>0</th>\n",
       "      <td>_result</td>\n",
       "      <td>0</td>\n",
       "      <td>2025-04-16 02:17:23.858308+00:00</td>\n",
       "      <td>2025-04-16 02:18:23.858308+00:00</td>\n",
       "      <td>2025-04-16 02:18:18.039678+00:00</td>\n",
       "      <td>0</td>\n",
       "      <td>field1</td>\n",
       "      <td>measurement1</td>\n",
       "      <td>tagvalue1</td>\n",
       "    </tr>\n",
       "    <tr>\n",
       "      <th>1</th>\n",
       "      <td>_result</td>\n",
       "      <td>0</td>\n",
       "      <td>2025-04-16 02:17:23.858308+00:00</td>\n",
       "      <td>2025-04-16 02:18:23.858308+00:00</td>\n",
       "      <td>2025-04-16 02:18:19.187896+00:00</td>\n",
       "      <td>1</td>\n",
       "      <td>field1</td>\n",
       "      <td>measurement1</td>\n",
       "      <td>tagvalue1</td>\n",
       "    </tr>\n",
       "    <tr>\n",
       "      <th>2</th>\n",
       "      <td>_result</td>\n",
       "      <td>0</td>\n",
       "      <td>2025-04-16 02:17:23.858308+00:00</td>\n",
       "      <td>2025-04-16 02:18:23.858308+00:00</td>\n",
       "      <td>2025-04-16 02:18:20.316103+00:00</td>\n",
       "      <td>2</td>\n",
       "      <td>field1</td>\n",
       "      <td>measurement1</td>\n",
       "      <td>tagvalue1</td>\n",
       "    </tr>\n",
       "    <tr>\n",
       "      <th>3</th>\n",
       "      <td>_result</td>\n",
       "      <td>0</td>\n",
       "      <td>2025-04-16 02:17:23.858308+00:00</td>\n",
       "      <td>2025-04-16 02:18:23.858308+00:00</td>\n",
       "      <td>2025-04-16 02:18:21.413889+00:00</td>\n",
       "      <td>3</td>\n",
       "      <td>field1</td>\n",
       "      <td>measurement1</td>\n",
       "      <td>tagvalue1</td>\n",
       "    </tr>\n",
       "    <tr>\n",
       "      <th>4</th>\n",
       "      <td>_result</td>\n",
       "      <td>0</td>\n",
       "      <td>2025-04-16 02:17:23.858308+00:00</td>\n",
       "      <td>2025-04-16 02:18:23.858308+00:00</td>\n",
       "      <td>2025-04-16 02:18:22.537171+00:00</td>\n",
       "      <td>4</td>\n",
       "      <td>field1</td>\n",
       "      <td>measurement1</td>\n",
       "      <td>tagvalue1</td>\n",
       "    </tr>\n",
       "  </tbody>\n",
       "</table>\n",
       "</div>"
      ],
      "text/plain": [
       "    result  table                           _start  \\\n",
       "0  _result      0 2025-04-16 02:17:23.858308+00:00   \n",
       "1  _result      0 2025-04-16 02:17:23.858308+00:00   \n",
       "2  _result      0 2025-04-16 02:17:23.858308+00:00   \n",
       "3  _result      0 2025-04-16 02:17:23.858308+00:00   \n",
       "4  _result      0 2025-04-16 02:17:23.858308+00:00   \n",
       "\n",
       "                             _stop                            _time  _value  \\\n",
       "0 2025-04-16 02:18:23.858308+00:00 2025-04-16 02:18:18.039678+00:00       0   \n",
       "1 2025-04-16 02:18:23.858308+00:00 2025-04-16 02:18:19.187896+00:00       1   \n",
       "2 2025-04-16 02:18:23.858308+00:00 2025-04-16 02:18:20.316103+00:00       2   \n",
       "3 2025-04-16 02:18:23.858308+00:00 2025-04-16 02:18:21.413889+00:00       3   \n",
       "4 2025-04-16 02:18:23.858308+00:00 2025-04-16 02:18:22.537171+00:00       4   \n",
       "\n",
       "   _field  _measurement   tagname1  \n",
       "0  field1  measurement1  tagvalue1  \n",
       "1  field1  measurement1  tagvalue1  \n",
       "2  field1  measurement1  tagvalue1  \n",
       "3  field1  measurement1  tagvalue1  \n",
       "4  field1  measurement1  tagvalue1  "
      ]
     },
     "execution_count": 4,
     "metadata": {},
     "output_type": "execute_result"
    }
   ],
   "source": [
    "import pandas as pd\n",
    "\n",
    "query_api = client.query_api()\n",
    "\n",
    "query = \"\"\"from(bucket: \"test\")\n",
    " |> range(start: -1m)\n",
    " |> filter(fn: (r) => r._measurement == \"measurement1\")\"\"\"\n",
    "tables = query_api.query(query, org=_org)\n",
    "\n",
    "data = []\n",
    "for table in tables:\n",
    "    for record in table.records:\n",
    "        data.append(record.values)\n",
    "\n",
    "pd.DataFrame(data)"
   ]
  },
  {
   "cell_type": "markdown",
   "id": "9c6fd801-6e67-49fd-b4bf-e843419c4881",
   "metadata": {},
   "source": [
    "### Execute an Aggregate Query\n",
    "\n",
    "Aggregate functions take the values of all rows in a table and use them to perform an aggregate operation.  \n",
    "\n",
    "In this example, we use the mean() function to calculate the average value of data points in the last 10 minutes."
   ]
  },
  {
   "cell_type": "code",
   "execution_count": 5,
   "id": "1c4b6039-d040-48bb-a299-ae164d860b59",
   "metadata": {
    "execution": {
     "iopub.execute_input": "2025-04-16T02:18:23.874890Z",
     "iopub.status.busy": "2025-04-16T02:18:23.874890Z",
     "iopub.status.idle": "2025-04-16T02:18:23.897444Z",
     "shell.execute_reply": "2025-04-16T02:18:23.897444Z",
     "shell.execute_reply.started": "2025-04-16T02:18:23.874890Z"
    }
   },
   "outputs": [
    {
     "name": "stdout",
     "output_type": "stream",
     "text": [
      "FluxRecord() table: 0, {'result': '_result', 'table': 0, '_start': datetime.datetime(2025, 4, 16, 2, 8, 23, 888996, tzinfo=datetime.timezone.utc), '_stop': datetime.datetime(2025, 4, 16, 2, 18, 23, 888996, tzinfo=datetime.timezone.utc), '_value': 2.0, '_field': 'field1', '_measurement': 'measurement1', 'tagname1': 'tagvalue1'}\n"
     ]
    }
   ],
   "source": [
    "query_api = client.query_api()\n",
    "\n",
    "query = \"\"\"from(bucket: \"test\")\n",
    "  |> range(start: -10m)\n",
    "  |> filter(fn: (r) => r._measurement == \"measurement1\")\n",
    "  |> mean()\"\"\"\n",
    "tables = query_api.query(query, org=\"fbaquant\")\n",
    "\n",
    "for table in tables:\n",
    "    for record in table.records:\n",
    "        print(record)"
   ]
  },
  {
   "cell_type": "markdown",
   "id": "ac26ac54-5b1e-4230-9046-975bbd4ef1e9",
   "metadata": {},
   "source": [
    "---"
   ]
  },
  {
   "cell_type": "markdown",
   "id": "dc01d2a5-698a-4e4b-8414-b610b0a1642f",
   "metadata": {},
   "source": [
    "### Advanced: Write Data with Batch"
   ]
  },
  {
   "cell_type": "code",
   "execution_count": 6,
   "id": "6d91b252-973a-47c1-8dfd-20a5f468aca4",
   "metadata": {
    "execution": {
     "iopub.execute_input": "2025-04-16T02:18:23.898453Z",
     "iopub.status.busy": "2025-04-16T02:18:23.897444Z",
     "iopub.status.idle": "2025-04-16T02:18:29.442269Z",
     "shell.execute_reply": "2025-04-16T02:18:29.442269Z",
     "shell.execute_reply.started": "2025-04-16T02:18:23.898453Z"
    }
   },
   "outputs": [],
   "source": [
    "import time\n",
    "from datetime import datetime as dt\n",
    "\n",
    "from influxdb_client import WriteOptions, WritePrecision\n",
    "\n",
    "bucket=\"test\"\n",
    "\n",
    "write_api = client.write_api(\n",
    "    write_options=WriteOptions(batch_size=1000, flush_interval=1000)  # flush_interval: ms\n",
    ")\n",
    "\n",
    "for value in range(10_000):\n",
    "    point = (\n",
    "        Point(\"measurement2\")\n",
    "        .tag(\"tagname1\", \"tagvalue1\")\n",
    "        .field(\"field1\", value)\n",
    "        .time(time.time_ns())\n",
    "    )\n",
    "    time.sleep(0.0001)\n",
    "    write_api.write(bucket=bucket, org=_org, record=point)\n",
    "    \n",
    "write_api.close()"
   ]
  },
  {
   "cell_type": "code",
   "execution_count": 7,
   "id": "86b92aa6-fb0a-403b-adb4-ce4e814aca19",
   "metadata": {
    "execution": {
     "iopub.execute_input": "2025-04-16T02:18:29.443275Z",
     "iopub.status.busy": "2025-04-16T02:18:29.443275Z",
     "iopub.status.idle": "2025-04-16T02:18:29.581536Z",
     "shell.execute_reply": "2025-04-16T02:18:29.581536Z",
     "shell.execute_reply.started": "2025-04-16T02:18:29.443275Z"
    }
   },
   "outputs": [
    {
     "name": "stdout",
     "output_type": "stream",
     "text": [
      "(10000, 9)\n"
     ]
    },
    {
     "data": {
      "text/html": [
       "<div>\n",
       "<style scoped>\n",
       "    .dataframe tbody tr th:only-of-type {\n",
       "        vertical-align: middle;\n",
       "    }\n",
       "\n",
       "    .dataframe tbody tr th {\n",
       "        vertical-align: top;\n",
       "    }\n",
       "\n",
       "    .dataframe thead th {\n",
       "        text-align: right;\n",
       "    }\n",
       "</style>\n",
       "<table border=\"1\" class=\"dataframe\">\n",
       "  <thead>\n",
       "    <tr style=\"text-align: right;\">\n",
       "      <th></th>\n",
       "      <th>result</th>\n",
       "      <th>table</th>\n",
       "      <th>_start</th>\n",
       "      <th>_stop</th>\n",
       "      <th>_time</th>\n",
       "      <th>_value</th>\n",
       "      <th>_field</th>\n",
       "      <th>_measurement</th>\n",
       "      <th>tagname1</th>\n",
       "    </tr>\n",
       "  </thead>\n",
       "  <tbody>\n",
       "    <tr>\n",
       "      <th>0</th>\n",
       "      <td>_result</td>\n",
       "      <td>0</td>\n",
       "      <td>2025-04-16 02:17:29.458379+00:00</td>\n",
       "      <td>2025-04-16 02:18:29.458379+00:00</td>\n",
       "      <td>2025-04-16 02:18:23.904963+00:00</td>\n",
       "      <td>0</td>\n",
       "      <td>field1</td>\n",
       "      <td>measurement2</td>\n",
       "      <td>tagvalue1</td>\n",
       "    </tr>\n",
       "    <tr>\n",
       "      <th>1</th>\n",
       "      <td>_result</td>\n",
       "      <td>0</td>\n",
       "      <td>2025-04-16 02:17:29.458379+00:00</td>\n",
       "      <td>2025-04-16 02:18:29.458379+00:00</td>\n",
       "      <td>2025-04-16 02:18:23.907107+00:00</td>\n",
       "      <td>1</td>\n",
       "      <td>field1</td>\n",
       "      <td>measurement2</td>\n",
       "      <td>tagvalue1</td>\n",
       "    </tr>\n",
       "    <tr>\n",
       "      <th>2</th>\n",
       "      <td>_result</td>\n",
       "      <td>0</td>\n",
       "      <td>2025-04-16 02:17:29.458379+00:00</td>\n",
       "      <td>2025-04-16 02:18:29.458379+00:00</td>\n",
       "      <td>2025-04-16 02:18:23.908163+00:00</td>\n",
       "      <td>2</td>\n",
       "      <td>field1</td>\n",
       "      <td>measurement2</td>\n",
       "      <td>tagvalue1</td>\n",
       "    </tr>\n",
       "    <tr>\n",
       "      <th>3</th>\n",
       "      <td>_result</td>\n",
       "      <td>0</td>\n",
       "      <td>2025-04-16 02:17:29.458379+00:00</td>\n",
       "      <td>2025-04-16 02:18:29.458379+00:00</td>\n",
       "      <td>2025-04-16 02:18:23.908718+00:00</td>\n",
       "      <td>3</td>\n",
       "      <td>field1</td>\n",
       "      <td>measurement2</td>\n",
       "      <td>tagvalue1</td>\n",
       "    </tr>\n",
       "    <tr>\n",
       "      <th>4</th>\n",
       "      <td>_result</td>\n",
       "      <td>0</td>\n",
       "      <td>2025-04-16 02:17:29.458379+00:00</td>\n",
       "      <td>2025-04-16 02:18:29.458379+00:00</td>\n",
       "      <td>2025-04-16 02:18:23.909250+00:00</td>\n",
       "      <td>4</td>\n",
       "      <td>field1</td>\n",
       "      <td>measurement2</td>\n",
       "      <td>tagvalue1</td>\n",
       "    </tr>\n",
       "    <tr>\n",
       "      <th>5</th>\n",
       "      <td>_result</td>\n",
       "      <td>0</td>\n",
       "      <td>2025-04-16 02:17:29.458379+00:00</td>\n",
       "      <td>2025-04-16 02:18:29.458379+00:00</td>\n",
       "      <td>2025-04-16 02:18:23.909777+00:00</td>\n",
       "      <td>5</td>\n",
       "      <td>field1</td>\n",
       "      <td>measurement2</td>\n",
       "      <td>tagvalue1</td>\n",
       "    </tr>\n",
       "    <tr>\n",
       "      <th>6</th>\n",
       "      <td>_result</td>\n",
       "      <td>0</td>\n",
       "      <td>2025-04-16 02:17:29.458379+00:00</td>\n",
       "      <td>2025-04-16 02:18:29.458379+00:00</td>\n",
       "      <td>2025-04-16 02:18:23.910306+00:00</td>\n",
       "      <td>6</td>\n",
       "      <td>field1</td>\n",
       "      <td>measurement2</td>\n",
       "      <td>tagvalue1</td>\n",
       "    </tr>\n",
       "    <tr>\n",
       "      <th>7</th>\n",
       "      <td>_result</td>\n",
       "      <td>0</td>\n",
       "      <td>2025-04-16 02:17:29.458379+00:00</td>\n",
       "      <td>2025-04-16 02:18:29.458379+00:00</td>\n",
       "      <td>2025-04-16 02:18:23.910831+00:00</td>\n",
       "      <td>7</td>\n",
       "      <td>field1</td>\n",
       "      <td>measurement2</td>\n",
       "      <td>tagvalue1</td>\n",
       "    </tr>\n",
       "    <tr>\n",
       "      <th>8</th>\n",
       "      <td>_result</td>\n",
       "      <td>0</td>\n",
       "      <td>2025-04-16 02:17:29.458379+00:00</td>\n",
       "      <td>2025-04-16 02:18:29.458379+00:00</td>\n",
       "      <td>2025-04-16 02:18:23.911359+00:00</td>\n",
       "      <td>8</td>\n",
       "      <td>field1</td>\n",
       "      <td>measurement2</td>\n",
       "      <td>tagvalue1</td>\n",
       "    </tr>\n",
       "    <tr>\n",
       "      <th>9</th>\n",
       "      <td>_result</td>\n",
       "      <td>0</td>\n",
       "      <td>2025-04-16 02:17:29.458379+00:00</td>\n",
       "      <td>2025-04-16 02:18:29.458379+00:00</td>\n",
       "      <td>2025-04-16 02:18:23.911883+00:00</td>\n",
       "      <td>9</td>\n",
       "      <td>field1</td>\n",
       "      <td>measurement2</td>\n",
       "      <td>tagvalue1</td>\n",
       "    </tr>\n",
       "  </tbody>\n",
       "</table>\n",
       "</div>"
      ],
      "text/plain": [
       "    result  table                           _start  \\\n",
       "0  _result      0 2025-04-16 02:17:29.458379+00:00   \n",
       "1  _result      0 2025-04-16 02:17:29.458379+00:00   \n",
       "2  _result      0 2025-04-16 02:17:29.458379+00:00   \n",
       "3  _result      0 2025-04-16 02:17:29.458379+00:00   \n",
       "4  _result      0 2025-04-16 02:17:29.458379+00:00   \n",
       "5  _result      0 2025-04-16 02:17:29.458379+00:00   \n",
       "6  _result      0 2025-04-16 02:17:29.458379+00:00   \n",
       "7  _result      0 2025-04-16 02:17:29.458379+00:00   \n",
       "8  _result      0 2025-04-16 02:17:29.458379+00:00   \n",
       "9  _result      0 2025-04-16 02:17:29.458379+00:00   \n",
       "\n",
       "                             _stop                            _time  _value  \\\n",
       "0 2025-04-16 02:18:29.458379+00:00 2025-04-16 02:18:23.904963+00:00       0   \n",
       "1 2025-04-16 02:18:29.458379+00:00 2025-04-16 02:18:23.907107+00:00       1   \n",
       "2 2025-04-16 02:18:29.458379+00:00 2025-04-16 02:18:23.908163+00:00       2   \n",
       "3 2025-04-16 02:18:29.458379+00:00 2025-04-16 02:18:23.908718+00:00       3   \n",
       "4 2025-04-16 02:18:29.458379+00:00 2025-04-16 02:18:23.909250+00:00       4   \n",
       "5 2025-04-16 02:18:29.458379+00:00 2025-04-16 02:18:23.909777+00:00       5   \n",
       "6 2025-04-16 02:18:29.458379+00:00 2025-04-16 02:18:23.910306+00:00       6   \n",
       "7 2025-04-16 02:18:29.458379+00:00 2025-04-16 02:18:23.910831+00:00       7   \n",
       "8 2025-04-16 02:18:29.458379+00:00 2025-04-16 02:18:23.911359+00:00       8   \n",
       "9 2025-04-16 02:18:29.458379+00:00 2025-04-16 02:18:23.911883+00:00       9   \n",
       "\n",
       "   _field  _measurement   tagname1  \n",
       "0  field1  measurement2  tagvalue1  \n",
       "1  field1  measurement2  tagvalue1  \n",
       "2  field1  measurement2  tagvalue1  \n",
       "3  field1  measurement2  tagvalue1  \n",
       "4  field1  measurement2  tagvalue1  \n",
       "5  field1  measurement2  tagvalue1  \n",
       "6  field1  measurement2  tagvalue1  \n",
       "7  field1  measurement2  tagvalue1  \n",
       "8  field1  measurement2  tagvalue1  \n",
       "9  field1  measurement2  tagvalue1  "
      ]
     },
     "execution_count": 7,
     "metadata": {},
     "output_type": "execute_result"
    }
   ],
   "source": [
    "import pandas as pd\n",
    "\n",
    "query_api = client.query_api()\n",
    "\n",
    "query = \"\"\"from(bucket: \"test\")\n",
    " |> range(start: -1m)\n",
    " |> filter(fn: (r) => r._measurement == \"measurement2\")\"\"\"\n",
    "tables = query_api.query(query, org=_org)\n",
    "\n",
    "data = []\n",
    "for table in tables:\n",
    "    for record in table.records:\n",
    "        data.append(record.values)\n",
    "\n",
    "print(pd.DataFrame(data).shape)\n",
    "pd.DataFrame(data).head(10)"
   ]
  },
  {
   "cell_type": "markdown",
   "id": "d3c9f035-395e-4a5a-9257-96e4ae7ecf92",
   "metadata": {},
   "source": [
    "---"
   ]
  }
 ],
 "metadata": {
  "kernelspec": {
   "display_name": "Python 3 (ipykernel)",
   "language": "python",
   "name": "python3"
  },
  "language_info": {
   "codemirror_mode": {
    "name": "ipython",
    "version": 3
   },
   "file_extension": ".py",
   "mimetype": "text/x-python",
   "name": "python",
   "nbconvert_exporter": "python",
   "pygments_lexer": "ipython3",
   "version": "3.12.7"
  }
 },
 "nbformat": 4,
 "nbformat_minor": 5
}
